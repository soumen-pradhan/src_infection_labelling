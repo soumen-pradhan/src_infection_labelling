{
 "cells": [
  {
   "cell_type": "code",
   "execution_count": 11,
   "id": "f4e519c6",
   "metadata": {
    "scrolled": true
   },
   "outputs": [
    {
     "name": "stdout",
     "output_type": "stream",
     "text": [
      "The nb_black extension is already loaded. To reload it, use:\n",
      "  %reload_ext nb_black\n"
     ]
    },
    {
     "data": {
      "application/javascript": [
       "\n",
       "            setTimeout(function() {\n",
       "                var nbb_cell_id = 11;\n",
       "                var nbb_unformatted_code = \"from scipy.sparse import dia_matrix\\n\\nimport networkx as nx\\nfrom networkx import shortest_path_length as nx_path\\n\\nimport numpy as np\\nimport random as rand\\nimport itertools\\nimport statistics as stats\\nimport pandas as pd\\nfrom timeit import default_timer as timer\\n\\nimport matplotlib.pyplot as plt\\nfrom pprint import pprint\\n\\nfrom sys import maxsize\\n\\nnp.set_printoptions(threshold=maxsize)\\n\\n%load_ext nb_black\";\n",
       "                var nbb_formatted_code = \"from scipy.sparse import dia_matrix\\n\\nimport networkx as nx\\nfrom networkx import shortest_path_length as nx_path\\n\\nimport numpy as np\\nimport random as rand\\nimport itertools\\nimport statistics as stats\\nimport pandas as pd\\nfrom timeit import default_timer as timer\\n\\nimport matplotlib.pyplot as plt\\nfrom pprint import pprint\\n\\nfrom sys import maxsize\\n\\nnp.set_printoptions(threshold=maxsize)\\n\\n%load_ext nb_black\";\n",
       "                var nbb_cells = Jupyter.notebook.get_cells();\n",
       "                for (var i = 0; i < nbb_cells.length; ++i) {\n",
       "                    if (nbb_cells[i].input_prompt_number == nbb_cell_id) {\n",
       "                        if (nbb_cells[i].get_text() == nbb_unformatted_code) {\n",
       "                             nbb_cells[i].set_text(nbb_formatted_code);\n",
       "                        }\n",
       "                        break;\n",
       "                    }\n",
       "                }\n",
       "            }, 500);\n",
       "            "
      ],
      "text/plain": [
       "<IPython.core.display.Javascript object>"
      ]
     },
     "metadata": {},
     "output_type": "display_data"
    }
   ],
   "source": [
    "from scipy.sparse import dia_matrix\n",
    "\n",
    "import networkx as nx\n",
    "from networkx import shortest_path_length as nx_path\n",
    "\n",
    "import numpy as np\n",
    "import random as rand\n",
    "import itertools\n",
    "import statistics as stats\n",
    "import pandas as pd\n",
    "from timeit import default_timer as timer\n",
    "\n",
    "import matplotlib.pyplot as plt\n",
    "from pprint import pprint\n",
    "\n",
    "from sys import maxsize\n",
    "\n",
    "np.set_printoptions(threshold=maxsize)\n",
    "\n",
    "%load_ext nb_black"
   ]
  },
  {
   "cell_type": "code",
   "execution_count": 12,
   "id": "eae9fd4f",
   "metadata": {
    "scrolled": true
   },
   "outputs": [
    {
     "data": {
      "application/javascript": [
       "\n",
       "            setTimeout(function() {\n",
       "                var nbb_cell_id = 12;\n",
       "                var nbb_unformatted_code = \"\\\"\\\"\\\" all simulation and label functions return ([label-vector], runtime) \\\"\\\"\\\"\\n\\n\\ndef simulateInfection(G, src, model=\\\"SI\\\", lamda=0.3, threshold=0.3):\\n    N = G.number_of_nodes()\\n    nodes = list(G.nodes())\\n    infected_nodes = {src}\\n\\n    while True:\\n        temp_infected = infected_nodes.copy()\\n\\n        for node in infected_nodes:\\n            for neighbour in G.neighbors(node):\\n                if rand.random() < lamda:\\n                    temp_infected.add(neighbour)\\n\\n        infected_nodes = temp_infected\\n\\n        if len(infected_nodes) > threshold * N:\\n            break\\n\\n    y = np.full(N, -1)\\n    for infNode in infected_nodes:\\n        y[nodes.index(infNode)] = 1\\n\\n    return y\";\n",
       "                var nbb_formatted_code = \"\\\"\\\"\\\" all simulation and label functions return ([label-vector], runtime) \\\"\\\"\\\"\\n\\n\\ndef simulateInfection(G, src, model=\\\"SI\\\", lamda=0.3, threshold=0.3):\\n    N = G.number_of_nodes()\\n    nodes = list(G.nodes())\\n    infected_nodes = {src}\\n\\n    while True:\\n        temp_infected = infected_nodes.copy()\\n\\n        for node in infected_nodes:\\n            for neighbour in G.neighbors(node):\\n                if rand.random() < lamda:\\n                    temp_infected.add(neighbour)\\n\\n        infected_nodes = temp_infected\\n\\n        if len(infected_nodes) > threshold * N:\\n            break\\n\\n    y = np.full(N, -1)\\n    for infNode in infected_nodes:\\n        y[nodes.index(infNode)] = 1\\n\\n    return y\";\n",
       "                var nbb_cells = Jupyter.notebook.get_cells();\n",
       "                for (var i = 0; i < nbb_cells.length; ++i) {\n",
       "                    if (nbb_cells[i].input_prompt_number == nbb_cell_id) {\n",
       "                        if (nbb_cells[i].get_text() == nbb_unformatted_code) {\n",
       "                             nbb_cells[i].set_text(nbb_formatted_code);\n",
       "                        }\n",
       "                        break;\n",
       "                    }\n",
       "                }\n",
       "            }, 500);\n",
       "            "
      ],
      "text/plain": [
       "<IPython.core.display.Javascript object>"
      ]
     },
     "metadata": {},
     "output_type": "display_data"
    }
   ],
   "source": [
    "\"\"\" all simulation and label functions return ([label-vector], runtime) \"\"\"\n",
    "\n",
    "\n",
    "def simulateInfection(G, src, model=\"SI\", lamda=0.3, threshold=0.3):\n",
    "    N = G.number_of_nodes()\n",
    "    nodes = list(G.nodes())\n",
    "    infected_nodes = {src}\n",
    "\n",
    "    while True:\n",
    "        temp_infected = infected_nodes.copy()\n",
    "\n",
    "        for node in infected_nodes:\n",
    "            for neighbour in G.neighbors(node):\n",
    "                if rand.random() < lamda:\n",
    "                    temp_infected.add(neighbour)\n",
    "\n",
    "        infected_nodes = temp_infected\n",
    "\n",
    "        if len(infected_nodes) > threshold * N:\n",
    "            break\n",
    "\n",
    "    y = np.full(N, -1)\n",
    "    for infNode in infected_nodes:\n",
    "        y[nodes.index(infNode)] = 1\n",
    "\n",
    "    return y"
   ]
  },
  {
   "cell_type": "code",
   "execution_count": 13,
   "id": "3488c56c",
   "metadata": {
    "scrolled": true
   },
   "outputs": [
    {
     "data": {
      "application/javascript": [
       "\n",
       "            setTimeout(function() {\n",
       "                var nbb_cell_id = 13;\n",
       "                var nbb_unformatted_code = \"def labelRankingScore(G, y, alpha=0.5):\\n    start = timer()\\n    N = G.number_of_nodes()\\n\\n    W = nx.adjacency_matrix(G)\\n    diag_elem = W.sum(axis=1).A1 ** (-0.5)\\n\\n    inv_sqrt_D = dia_matrix((diag_elem, [0]), shape=W.get_shape())\\n    S = inv_sqrt_D @ W @ inv_sqrt_D\\n\\n    f = np.copy(y)\\n\\n    while True:\\n        f_ = alpha * S @ f + (1 - alpha) * y\\n\\n        if np.linalg.norm(f - f_) < 0.001 * N:  # Convergence Criteria\\n            break\\n\\n        f = f_\\n\\n    tup = [(n, f[i]) for i, n in enumerate(G.nodes())]\\n\\n    end = timer()\\n    return dict(tup), end - start\";\n",
       "                var nbb_formatted_code = \"def labelRankingScore(G, y, alpha=0.5):\\n    start = timer()\\n    N = G.number_of_nodes()\\n\\n    W = nx.adjacency_matrix(G)\\n    diag_elem = W.sum(axis=1).A1 ** (-0.5)\\n\\n    inv_sqrt_D = dia_matrix((diag_elem, [0]), shape=W.get_shape())\\n    S = inv_sqrt_D @ W @ inv_sqrt_D\\n\\n    f = np.copy(y)\\n\\n    while True:\\n        f_ = alpha * S @ f + (1 - alpha) * y\\n\\n        if np.linalg.norm(f - f_) < 0.001 * N:  # Convergence Criteria\\n            break\\n\\n        f = f_\\n\\n    tup = [(n, f[i]) for i, n in enumerate(G.nodes())]\\n\\n    end = timer()\\n    return dict(tup), end - start\";\n",
       "                var nbb_cells = Jupyter.notebook.get_cells();\n",
       "                for (var i = 0; i < nbb_cells.length; ++i) {\n",
       "                    if (nbb_cells[i].input_prompt_number == nbb_cell_id) {\n",
       "                        if (nbb_cells[i].get_text() == nbb_unformatted_code) {\n",
       "                             nbb_cells[i].set_text(nbb_formatted_code);\n",
       "                        }\n",
       "                        break;\n",
       "                    }\n",
       "                }\n",
       "            }, 500);\n",
       "            "
      ],
      "text/plain": [
       "<IPython.core.display.Javascript object>"
      ]
     },
     "metadata": {},
     "output_type": "display_data"
    }
   ],
   "source": [
    "def labelRankingScore(G, y, alpha=0.5):\n",
    "    start = timer()\n",
    "    N = G.number_of_nodes()\n",
    "\n",
    "    W = nx.adjacency_matrix(G)\n",
    "    diag_elem = W.sum(axis=1).A1 ** (-0.5)\n",
    "\n",
    "    inv_sqrt_D = dia_matrix((diag_elem, [0]), shape=W.get_shape())\n",
    "    S = inv_sqrt_D @ W @ inv_sqrt_D\n",
    "\n",
    "    f = np.copy(y)\n",
    "\n",
    "    while True:\n",
    "        f_ = alpha * S @ f + (1 - alpha) * y\n",
    "\n",
    "        if np.linalg.norm(f - f_) < 0.001 * N:  # Convergence Criteria\n",
    "            break\n",
    "\n",
    "        f = f_\n",
    "\n",
    "    tup = [(n, f[i]) for i, n in enumerate(G.nodes())]\n",
    "\n",
    "    end = timer()\n",
    "    return dict(tup), end - start"
   ]
  },
  {
   "cell_type": "code",
   "execution_count": 14,
   "id": "81b49efc",
   "metadata": {
    "scrolled": true
   },
   "outputs": [
    {
     "data": {
      "application/javascript": [
       "\n",
       "            setTimeout(function() {\n",
       "                var nbb_cell_id = 14;\n",
       "                var nbb_unformatted_code = \"\\\"\\\"\\\" known_dicts = [ {infected: [nodes], safe: [nodes]} ] \\\"\\\"\\\"\\n\\n\\ndef simulatePartialInfection(\\n    G, src, model=\\\"SI\\\", lamda=0.3, threshold=0.3, sampling=0.7, n_snaps=1\\n):\\n    N = G.number_of_nodes()\\n    nodes = list(G.nodes())\\n    infected = {src}\\n\\n    while True:\\n        temp_infected = infected.copy()\\n\\n        for node in infected:\\n            for neighbour in nx.all_neighbors(G, node):\\n                if rand.random() < lamda:\\n                    temp_infected.add(neighbour)\\n\\n        infected = temp_infected\\n\\n        if len(infected) > threshold * N:\\n            break\\n\\n    snapshots = [rand.sample(nodes, int(sampling * N)) for _ in range(n_snaps)]\\n    known_dicts = [{\\\"infected\\\": [], \\\"safe\\\": []} for _ in range(n_snaps)]\\n\\n    for i, snapshot in enumerate(snapshots):\\n        for node in snapshot:\\n            known_dicts[i][\\\"infected\\\" if node in infected else \\\"safe\\\"].append(node)\\n\\n    return known_dicts\";\n",
       "                var nbb_formatted_code = \"\\\"\\\"\\\" known_dicts = [ {infected: [nodes], safe: [nodes]} ] \\\"\\\"\\\"\\n\\n\\ndef simulatePartialInfection(\\n    G, src, model=\\\"SI\\\", lamda=0.3, threshold=0.3, sampling=0.7, n_snaps=1\\n):\\n    N = G.number_of_nodes()\\n    nodes = list(G.nodes())\\n    infected = {src}\\n\\n    while True:\\n        temp_infected = infected.copy()\\n\\n        for node in infected:\\n            for neighbour in nx.all_neighbors(G, node):\\n                if rand.random() < lamda:\\n                    temp_infected.add(neighbour)\\n\\n        infected = temp_infected\\n\\n        if len(infected) > threshold * N:\\n            break\\n\\n    snapshots = [rand.sample(nodes, int(sampling * N)) for _ in range(n_snaps)]\\n    known_dicts = [{\\\"infected\\\": [], \\\"safe\\\": []} for _ in range(n_snaps)]\\n\\n    for i, snapshot in enumerate(snapshots):\\n        for node in snapshot:\\n            known_dicts[i][\\\"infected\\\" if node in infected else \\\"safe\\\"].append(node)\\n\\n    return known_dicts\";\n",
       "                var nbb_cells = Jupyter.notebook.get_cells();\n",
       "                for (var i = 0; i < nbb_cells.length; ++i) {\n",
       "                    if (nbb_cells[i].input_prompt_number == nbb_cell_id) {\n",
       "                        if (nbb_cells[i].get_text() == nbb_unformatted_code) {\n",
       "                             nbb_cells[i].set_text(nbb_formatted_code);\n",
       "                        }\n",
       "                        break;\n",
       "                    }\n",
       "                }\n",
       "            }, 500);\n",
       "            "
      ],
      "text/plain": [
       "<IPython.core.display.Javascript object>"
      ]
     },
     "metadata": {},
     "output_type": "display_data"
    }
   ],
   "source": [
    "\"\"\" known_dicts = [ {infected: [nodes], safe: [nodes]} ] \"\"\"\n",
    "\n",
    "\n",
    "def simulatePartialInfection(\n",
    "    G, src, model=\"SI\", lamda=0.3, threshold=0.3, sampling=0.7, n_snaps=1\n",
    "):\n",
    "    N = G.number_of_nodes()\n",
    "    nodes = list(G.nodes())\n",
    "    infected = {src}\n",
    "\n",
    "    while True:\n",
    "        temp_infected = infected.copy()\n",
    "\n",
    "        for node in infected:\n",
    "            for neighbour in nx.all_neighbors(G, node):\n",
    "                if rand.random() < lamda:\n",
    "                    temp_infected.add(neighbour)\n",
    "\n",
    "        infected = temp_infected\n",
    "\n",
    "        if len(infected) > threshold * N:\n",
    "            break\n",
    "\n",
    "    snapshots = [rand.sample(nodes, int(sampling * N)) for _ in range(n_snaps)]\n",
    "    known_dicts = [{\"infected\": [], \"safe\": []} for _ in range(n_snaps)]\n",
    "\n",
    "    for i, snapshot in enumerate(snapshots):\n",
    "        for node in snapshot:\n",
    "            known_dicts[i][\"infected\" if node in infected else \"safe\"].append(node)\n",
    "\n",
    "    return known_dicts"
   ]
  },
  {
   "cell_type": "code",
   "execution_count": 15,
   "id": "7ac0bd3b",
   "metadata": {
    "scrolled": true
   },
   "outputs": [
    {
     "data": {
      "application/javascript": [
       "\n",
       "            setTimeout(function() {\n",
       "                var nbb_cell_id = 15;\n",
       "                var nbb_unformatted_code = \"def resetF(F, known_dict, nodes):\\n    for node in known_dict[\\\"safe\\\"]:\\n        indx = nodes.index(node)\\n        F[indx][0] = 1\\n        F[indx][1] = 0\\n\\n    for node in known_dict[\\\"infected\\\"]:\\n        indx = nodes.index(node)\\n        F[indx][0] = 0\\n        F[indx][1] = 1\\n\\n\\ndef GFHF(G, known_dict):\\n    start = timer()\\n    nodes = list(G.nodes())\\n\\n    N = G.number_of_nodes()\\n    W = nx.adjacency_matrix(G)\\n\\n    diag_elem = 1 / W.sum(axis=1).A1\\n    inv_D = dia_matrix((diag_elem, [0]), shape=W.get_shape())\\n\\n    P = inv_D @ W\\n    F = np.zeros((N, 2))\\n\\n    resetF(F, known_dict, nodes)\\n\\n    while True:\\n        F_ = P @ F\\n        curr_diff = sum(sum(abs(F - F_)))\\n\\n        resetF(F, known_dict, nodes)\\n\\n        if curr_diff < 0.0001 * N:  # Convergence Criteria\\n            break\\n\\n        F = F_\\n\\n    O = np.array([1 if f[1] > f[0] else -1 for f in F])\\n\\n    end = timer()\\n    return O, end - start\\n\\n\\ndef TSSI_GFHF(G, labelled, src):\\n    O, partial_time = GFHF(G, labelled)\\n    dict_scores, complete_time = labelRankingScore(G, O)\\n\\n    pred_src = max(dict_scores, key=dict_scores.get)\\n    dist_err = nx_path(G, src, pred_src)\\n\\n    print(f\\\"TSSI_GFHF {pred_src} -> {len(list(G.neighbors(pred_src)))}\\\")\\n\\n    return dist_err, partial_time + complete_time\\n\\n\\ndef LGC(G, known_dict, alpha):\\n    start = timer()\\n\\n    nodes = list(G.nodes())\\n\\n    N = G.number_of_nodes()\\n    W = nx.adjacency_matrix(G)\\n\\n    diag_elem = W.sum(axis=1).A1 ** (-0.5)\\n    inv_sqrt_D = dia_matrix((diag_elem, [0]), shape=W.get_shape())\\n\\n    S = inv_sqrt_D @ W @ inv_sqrt_D\\n    F = np.zeros((N, 2))\\n\\n    resetF(F, known_dict, nodes)\\n    Y = np.copy(F)\\n\\n    while True:\\n        F_ = alpha * S @ F + (1 - alpha) * Y\\n\\n        if sum(sum(abs(F - F_))) < 0.0001 * N:  # Convergence Criterion\\n            break\\n\\n        F = F_\\n\\n    O = np.array([1 if f[1] > f[0] else -1 for f in F])\\n\\n    end = timer()\\n    return O, end - start\\n\\n\\ndef TSSI_LGC(G, labelled, src, alpha=0.5):\\n    O, partial_time = LGC(G, labelled, alpha=alpha)\\n    dict_scores, complete_time = labelRankingScore(G, O)\\n\\n    pred_src = max(dict_scores, key=dict_scores.get)\\n    dist_err = nx_path(G, src, pred_src)\\n\\n    print(f\\\"TSSI_LGC {pred_src} -> {len(list(G.neighbors(pred_src)))}\\\")\\n\\n    return dist_err, partial_time + complete_time\";\n",
       "                var nbb_formatted_code = \"def resetF(F, known_dict, nodes):\\n    for node in known_dict[\\\"safe\\\"]:\\n        indx = nodes.index(node)\\n        F[indx][0] = 1\\n        F[indx][1] = 0\\n\\n    for node in known_dict[\\\"infected\\\"]:\\n        indx = nodes.index(node)\\n        F[indx][0] = 0\\n        F[indx][1] = 1\\n\\n\\ndef GFHF(G, known_dict):\\n    start = timer()\\n    nodes = list(G.nodes())\\n\\n    N = G.number_of_nodes()\\n    W = nx.adjacency_matrix(G)\\n\\n    diag_elem = 1 / W.sum(axis=1).A1\\n    inv_D = dia_matrix((diag_elem, [0]), shape=W.get_shape())\\n\\n    P = inv_D @ W\\n    F = np.zeros((N, 2))\\n\\n    resetF(F, known_dict, nodes)\\n\\n    while True:\\n        F_ = P @ F\\n        curr_diff = sum(sum(abs(F - F_)))\\n\\n        resetF(F, known_dict, nodes)\\n\\n        if curr_diff < 0.0001 * N:  # Convergence Criteria\\n            break\\n\\n        F = F_\\n\\n    O = np.array([1 if f[1] > f[0] else -1 for f in F])\\n\\n    end = timer()\\n    return O, end - start\\n\\n\\ndef TSSI_GFHF(G, labelled, src):\\n    O, partial_time = GFHF(G, labelled)\\n    dict_scores, complete_time = labelRankingScore(G, O)\\n\\n    pred_src = max(dict_scores, key=dict_scores.get)\\n    dist_err = nx_path(G, src, pred_src)\\n\\n    print(f\\\"TSSI_GFHF {pred_src} -> {len(list(G.neighbors(pred_src)))}\\\")\\n\\n    return dist_err, partial_time + complete_time\\n\\n\\ndef LGC(G, known_dict, alpha):\\n    start = timer()\\n\\n    nodes = list(G.nodes())\\n\\n    N = G.number_of_nodes()\\n    W = nx.adjacency_matrix(G)\\n\\n    diag_elem = W.sum(axis=1).A1 ** (-0.5)\\n    inv_sqrt_D = dia_matrix((diag_elem, [0]), shape=W.get_shape())\\n\\n    S = inv_sqrt_D @ W @ inv_sqrt_D\\n    F = np.zeros((N, 2))\\n\\n    resetF(F, known_dict, nodes)\\n    Y = np.copy(F)\\n\\n    while True:\\n        F_ = alpha * S @ F + (1 - alpha) * Y\\n\\n        if sum(sum(abs(F - F_))) < 0.0001 * N:  # Convergence Criterion\\n            break\\n\\n        F = F_\\n\\n    O = np.array([1 if f[1] > f[0] else -1 for f in F])\\n\\n    end = timer()\\n    return O, end - start\\n\\n\\ndef TSSI_LGC(G, labelled, src, alpha=0.5):\\n    O, partial_time = LGC(G, labelled, alpha=alpha)\\n    dict_scores, complete_time = labelRankingScore(G, O)\\n\\n    pred_src = max(dict_scores, key=dict_scores.get)\\n    dist_err = nx_path(G, src, pred_src)\\n\\n    print(f\\\"TSSI_LGC {pred_src} -> {len(list(G.neighbors(pred_src)))}\\\")\\n\\n    return dist_err, partial_time + complete_time\";\n",
       "                var nbb_cells = Jupyter.notebook.get_cells();\n",
       "                for (var i = 0; i < nbb_cells.length; ++i) {\n",
       "                    if (nbb_cells[i].input_prompt_number == nbb_cell_id) {\n",
       "                        if (nbb_cells[i].get_text() == nbb_unformatted_code) {\n",
       "                             nbb_cells[i].set_text(nbb_formatted_code);\n",
       "                        }\n",
       "                        break;\n",
       "                    }\n",
       "                }\n",
       "            }, 500);\n",
       "            "
      ],
      "text/plain": [
       "<IPython.core.display.Javascript object>"
      ]
     },
     "metadata": {},
     "output_type": "display_data"
    }
   ],
   "source": [
    "def resetF(F, known_dict, nodes):\n",
    "    for node in known_dict[\"safe\"]:\n",
    "        indx = nodes.index(node)\n",
    "        F[indx][0] = 1\n",
    "        F[indx][1] = 0\n",
    "\n",
    "    for node in known_dict[\"infected\"]:\n",
    "        indx = nodes.index(node)\n",
    "        F[indx][0] = 0\n",
    "        F[indx][1] = 1\n",
    "\n",
    "\n",
    "def GFHF(G, known_dict):\n",
    "    start = timer()\n",
    "    nodes = list(G.nodes())\n",
    "\n",
    "    N = G.number_of_nodes()\n",
    "    W = nx.adjacency_matrix(G)\n",
    "\n",
    "    diag_elem = 1 / W.sum(axis=1).A1\n",
    "    inv_D = dia_matrix((diag_elem, [0]), shape=W.get_shape())\n",
    "\n",
    "    P = inv_D @ W\n",
    "    F = np.zeros((N, 2))\n",
    "\n",
    "    resetF(F, known_dict, nodes)\n",
    "\n",
    "    while True:\n",
    "        F_ = P @ F\n",
    "        curr_diff = sum(sum(abs(F - F_)))\n",
    "\n",
    "        resetF(F, known_dict, nodes)\n",
    "\n",
    "        if curr_diff < 0.0001 * N:  # Convergence Criteria\n",
    "            break\n",
    "\n",
    "        F = F_\n",
    "\n",
    "    O = np.array([1 if f[1] > f[0] else -1 for f in F])\n",
    "\n",
    "    end = timer()\n",
    "    return O, end - start\n",
    "\n",
    "\n",
    "def TSSI_GFHF(G, labelled, src):\n",
    "    O, partial_time = GFHF(G, labelled)\n",
    "    dict_scores, complete_time = labelRankingScore(G, O)\n",
    "\n",
    "    pred_src = max(dict_scores, key=dict_scores.get)\n",
    "    dist_err = nx_path(G, src, pred_src)\n",
    "\n",
    "    print(f\"TSSI_GFHF {pred_src} -> {len(list(G.neighbors(pred_src)))}\")\n",
    "\n",
    "    return dist_err, partial_time + complete_time\n",
    "\n",
    "\n",
    "def LGC(G, known_dict, alpha):\n",
    "    start = timer()\n",
    "\n",
    "    nodes = list(G.nodes())\n",
    "\n",
    "    N = G.number_of_nodes()\n",
    "    W = nx.adjacency_matrix(G)\n",
    "\n",
    "    diag_elem = W.sum(axis=1).A1 ** (-0.5)\n",
    "    inv_sqrt_D = dia_matrix((diag_elem, [0]), shape=W.get_shape())\n",
    "\n",
    "    S = inv_sqrt_D @ W @ inv_sqrt_D\n",
    "    F = np.zeros((N, 2))\n",
    "\n",
    "    resetF(F, known_dict, nodes)\n",
    "    Y = np.copy(F)\n",
    "\n",
    "    while True:\n",
    "        F_ = alpha * S @ F + (1 - alpha) * Y\n",
    "\n",
    "        if sum(sum(abs(F - F_))) < 0.0001 * N:  # Convergence Criterion\n",
    "            break\n",
    "\n",
    "        F = F_\n",
    "\n",
    "    O = np.array([1 if f[1] > f[0] else -1 for f in F])\n",
    "\n",
    "    end = timer()\n",
    "    return O, end - start\n",
    "\n",
    "\n",
    "def TSSI_LGC(G, labelled, src, alpha=0.5):\n",
    "    O, partial_time = LGC(G, labelled, alpha=alpha)\n",
    "    dict_scores, complete_time = labelRankingScore(G, O)\n",
    "\n",
    "    pred_src = max(dict_scores, key=dict_scores.get)\n",
    "    dist_err = nx_path(G, src, pred_src)\n",
    "\n",
    "    print(f\"TSSI_LGC {pred_src} -> {len(list(G.neighbors(pred_src)))}\")\n",
    "\n",
    "    return dist_err, partial_time + complete_time"
   ]
  },
  {
   "cell_type": "code",
   "execution_count": 16,
   "id": "1c0f7ef6",
   "metadata": {
    "scrolled": true
   },
   "outputs": [
    {
     "data": {
      "application/javascript": [
       "\n",
       "            setTimeout(function() {\n",
       "                var nbb_cell_id = 16;\n",
       "                var nbb_unformatted_code = \"from urllib.request import urlopen\\nfrom io import BytesIO\\nfrom zipfile import ZipFile\\n\\nwith open(\\\"football.csv\\\", \\\"r\\\") as data:\\n    next(data, None)\\n    G_football = nx.parse_edgelist(\\n        data, delimiter=\\\",\\\", create_using=nx.Graph, nodetype=int\\n    )\\n\\nwith open(\\\"facebook.csv\\\", \\\"r\\\") as data:\\n    next(data, None)\\n    G_facebook = nx.parse_edgelist(\\n        data, delimiter=\\\",\\\", create_using=nx.Graph, nodetype=int\\n    )\\n\\nd_url = \\\"http://www-personal.umich.edu/~mejn/netdata/dolphins.zip\\\"\\nwith urlopen(d_url) as sock, ZipFile(BytesIO(sock.read())) as zf:\\n    gml = zf.read(\\\"dolphins.gml\\\").decode().split(\\\"\\\\n\\\")[1:]\\n    G_dolphin = nx.parse_gml(gml)\";\n",
       "                var nbb_formatted_code = \"from urllib.request import urlopen\\nfrom io import BytesIO\\nfrom zipfile import ZipFile\\n\\nwith open(\\\"football.csv\\\", \\\"r\\\") as data:\\n    next(data, None)\\n    G_football = nx.parse_edgelist(\\n        data, delimiter=\\\",\\\", create_using=nx.Graph, nodetype=int\\n    )\\n\\nwith open(\\\"facebook.csv\\\", \\\"r\\\") as data:\\n    next(data, None)\\n    G_facebook = nx.parse_edgelist(\\n        data, delimiter=\\\",\\\", create_using=nx.Graph, nodetype=int\\n    )\\n\\nd_url = \\\"http://www-personal.umich.edu/~mejn/netdata/dolphins.zip\\\"\\nwith urlopen(d_url) as sock, ZipFile(BytesIO(sock.read())) as zf:\\n    gml = zf.read(\\\"dolphins.gml\\\").decode().split(\\\"\\\\n\\\")[1:]\\n    G_dolphin = nx.parse_gml(gml)\";\n",
       "                var nbb_cells = Jupyter.notebook.get_cells();\n",
       "                for (var i = 0; i < nbb_cells.length; ++i) {\n",
       "                    if (nbb_cells[i].input_prompt_number == nbb_cell_id) {\n",
       "                        if (nbb_cells[i].get_text() == nbb_unformatted_code) {\n",
       "                             nbb_cells[i].set_text(nbb_formatted_code);\n",
       "                        }\n",
       "                        break;\n",
       "                    }\n",
       "                }\n",
       "            }, 500);\n",
       "            "
      ],
      "text/plain": [
       "<IPython.core.display.Javascript object>"
      ]
     },
     "metadata": {},
     "output_type": "display_data"
    }
   ],
   "source": [
    "from urllib.request import urlopen\n",
    "from io import BytesIO\n",
    "from zipfile import ZipFile\n",
    "\n",
    "with open(\"football.csv\", \"r\") as data:\n",
    "    next(data, None)\n",
    "    G_football = nx.parse_edgelist(\n",
    "        data, delimiter=\",\", create_using=nx.Graph, nodetype=int\n",
    "    )\n",
    "\n",
    "with open(\"facebook.csv\", \"r\") as data:\n",
    "    next(data, None)\n",
    "    G_facebook = nx.parse_edgelist(\n",
    "        data, delimiter=\",\", create_using=nx.Graph, nodetype=int\n",
    "    )\n",
    "\n",
    "d_url = \"http://www-personal.umich.edu/~mejn/netdata/dolphins.zip\"\n",
    "with urlopen(d_url) as sock, ZipFile(BytesIO(sock.read())) as zf:\n",
    "    gml = zf.read(\"dolphins.gml\").decode().split(\"\\n\")[1:]\n",
    "    G_dolphin = nx.parse_gml(gml)"
   ]
  },
  {
   "cell_type": "code",
   "execution_count": 17,
   "id": "ebe24656",
   "metadata": {
    "scrolled": true
   },
   "outputs": [
    {
     "data": {
      "application/javascript": [
       "\n",
       "            setTimeout(function() {\n",
       "                var nbb_cell_id = 17;\n",
       "                var nbb_unformatted_code = \"# Counter -> dict {item: freq}\\nfrom collections import Counter, defaultdict\\n\\n\\ndef gen_data_partial(algo, dataset, n_snaps=10):\\n\\n    df_dist_err = defaultdict(list)\\n    df_time = defaultdict(list)\\n    err_freq = []\\n\\n    for G_name, G in dataset.items():\\n        src = rand.choice(list(G.nodes()))\\n        N = G.number_of_nodes()\\n\\n        known_dicts = simulatePartialInfection(\\n            G, src, threshold=0.3, sampling=0.2, n_snaps=n_snaps\\n        )\\n\\n        score_time = [\\n            [alg(G, label, src) for label in known_dicts] for alg in algo.values()\\n        ]\\n\\n        \\\"\\\"\\\"\\n        alg_data = [alg1 [], alg2 [] ...]\\n        alg1 [] -> [(dist_err), (snapshot_time)]\\n        snapshot_score_dict = {node: score}\\n        \\\"\\\"\\\"\\n\\n        alg_data = [list(zip(*res)) for res in score_time]\\n        \\n        dict_freq = defaultdict(list)\\n        \\n        freq_hops = [Counter(err) for err, _ in alg_data]\\n        avg_dist_err = [stats.mean(err) for err, _ in alg_data]\\n        avg_time = [stats.mean(time) for _, time in alg_data]\\n\\n        for alg_name, de, time, freq in zip(algo.keys(), avg_dist_err, avg_time, freq_hops):\\n            df_dist_err[alg_name].append(de)\\n            df_time[alg_name].append(time)\\n            dict_freq[alg_name] = [freq[i] if i in freq else 0 for i in range(4)]\\n        \\n        df = pd.DataFrame(dict_freq, columns=algo.keys(), index=list(range(4)))\\n        err_freq.append(df)\\n    \\n    df_de = pd.DataFrame(df_dist_err, columns=algo.keys(), index=dataset.keys())\\n    df_time = pd.DataFrame(df_time, columns=algo.keys(), index=dataset.keys())\\n                        \\n    return df_de, df_time, err_freq\";\n",
       "                var nbb_formatted_code = \"# Counter -> dict {item: freq}\\nfrom collections import Counter, defaultdict\\n\\n\\ndef gen_data_partial(algo, dataset, n_snaps=10):\\n\\n    df_dist_err = defaultdict(list)\\n    df_time = defaultdict(list)\\n    err_freq = []\\n\\n    for G_name, G in dataset.items():\\n        src = rand.choice(list(G.nodes()))\\n        N = G.number_of_nodes()\\n\\n        known_dicts = simulatePartialInfection(\\n            G, src, threshold=0.3, sampling=0.2, n_snaps=n_snaps\\n        )\\n\\n        score_time = [\\n            [alg(G, label, src) for label in known_dicts] for alg in algo.values()\\n        ]\\n\\n        \\\"\\\"\\\"\\n        alg_data = [alg1 [], alg2 [] ...]\\n        alg1 [] -> [(dist_err), (snapshot_time)]\\n        snapshot_score_dict = {node: score}\\n        \\\"\\\"\\\"\\n\\n        alg_data = [list(zip(*res)) for res in score_time]\\n\\n        dict_freq = defaultdict(list)\\n\\n        freq_hops = [Counter(err) for err, _ in alg_data]\\n        avg_dist_err = [stats.mean(err) for err, _ in alg_data]\\n        avg_time = [stats.mean(time) for _, time in alg_data]\\n\\n        for alg_name, de, time, freq in zip(\\n            algo.keys(), avg_dist_err, avg_time, freq_hops\\n        ):\\n            df_dist_err[alg_name].append(de)\\n            df_time[alg_name].append(time)\\n            dict_freq[alg_name] = [freq[i] if i in freq else 0 for i in range(4)]\\n\\n        df = pd.DataFrame(dict_freq, columns=algo.keys(), index=list(range(4)))\\n        err_freq.append(df)\\n\\n    df_de = pd.DataFrame(df_dist_err, columns=algo.keys(), index=dataset.keys())\\n    df_time = pd.DataFrame(df_time, columns=algo.keys(), index=dataset.keys())\\n\\n    return df_de, df_time, err_freq\";\n",
       "                var nbb_cells = Jupyter.notebook.get_cells();\n",
       "                for (var i = 0; i < nbb_cells.length; ++i) {\n",
       "                    if (nbb_cells[i].input_prompt_number == nbb_cell_id) {\n",
       "                        if (nbb_cells[i].get_text() == nbb_unformatted_code) {\n",
       "                             nbb_cells[i].set_text(nbb_formatted_code);\n",
       "                        }\n",
       "                        break;\n",
       "                    }\n",
       "                }\n",
       "            }, 500);\n",
       "            "
      ],
      "text/plain": [
       "<IPython.core.display.Javascript object>"
      ]
     },
     "metadata": {},
     "output_type": "display_data"
    }
   ],
   "source": [
    "# Counter -> dict {item: freq}\n",
    "from collections import Counter, defaultdict\n",
    "\n",
    "\n",
    "def gen_data_partial(algo, dataset, n_snaps=10):\n",
    "\n",
    "    df_dist_err = defaultdict(list)\n",
    "    df_time = defaultdict(list)\n",
    "    err_freq = []\n",
    "\n",
    "    for G_name, G in dataset.items():\n",
    "        src = rand.choice(list(G.nodes()))\n",
    "        N = G.number_of_nodes()\n",
    "\n",
    "        known_dicts = simulatePartialInfection(\n",
    "            G, src, threshold=0.3, sampling=0.2, n_snaps=n_snaps\n",
    "        )\n",
    "\n",
    "        score_time = [\n",
    "            [alg(G, label, src) for label in known_dicts] for alg in algo.values()\n",
    "        ]\n",
    "\n",
    "        \"\"\"\n",
    "        alg_data = [alg1 [], alg2 [] ...]\n",
    "        alg1 [] -> [(dist_err), (snapshot_time)]\n",
    "        snapshot_score_dict = {node: score}\n",
    "        \"\"\"\n",
    "\n",
    "        alg_data = [list(zip(*res)) for res in score_time]\n",
    "        \n",
    "        dict_freq = defaultdict(list)\n",
    "        \n",
    "        freq_hops = [Counter(err) for err, _ in alg_data]\n",
    "        avg_dist_err = [stats.mean(err) for err, _ in alg_data]\n",
    "        avg_time = [stats.mean(time) for _, time in alg_data]\n",
    "\n",
    "        for alg_name, de, time, freq in zip(algo.keys(), avg_dist_err, avg_time, freq_hops):\n",
    "            df_dist_err[alg_name].append(de)\n",
    "            df_time[alg_name].append(time)\n",
    "            dict_freq[alg_name] = [freq[i] if i in freq else 0 for i in range(4)]\n",
    "        \n",
    "        df = pd.DataFrame(dict_freq, columns=algo.keys(), index=list(range(4)))\n",
    "        err_freq.append(df)\n",
    "    \n",
    "    df_de = pd.DataFrame(df_dist_err, columns=algo.keys(), index=dataset.keys())\n",
    "    df_time = pd.DataFrame(df_time, columns=algo.keys(), index=dataset.keys())\n",
    "                        \n",
    "    return df_de, df_time, err_freq\n",
    "\n"
   ]
  },
  {
   "cell_type": "code",
   "execution_count": 18,
   "id": "64b4fe5e",
   "metadata": {
    "scrolled": true
   },
   "outputs": [
    {
     "data": {
      "application/javascript": [
       "\n",
       "            setTimeout(function() {\n",
       "                var nbb_cell_id = 18;\n",
       "                var nbb_unformatted_code = \"from GMLA_2 import *\\nfrom PTVA_algo_final import *\\n\\n\\n\\ndef gen_data_complete(algo, dataset, iterations):\\n    df_dist_err = defaultdict(list)\\n    df_time = defaultdict(list)\\n    err_freq = []\\n\\n    for G_name, G in dataset.items():\\n        N = G.number_of_nodes()\\n        score_time = [alg(G, G_name, iterations) for alg in algo.values()]\\n        alg_data = [list(zip(*res)) for res in score_time]\\n\\n        dict_freq = defaultdict(list)\\n\\n        freq_hops = [Counter(err) for err, _ in alg_data]\\n        avg_dist_err = [stats.mean(err) for err, _ in alg_data]\\n        avg_time = [stats.mean(time) for _, time in alg_data]\\n\\n        for alg_name, de, time, freq in zip(\\n            algo.keys(), avg_dist_err, avg_time, freq_hops\\n        ):\\n            df_dist_err[alg_name].append(de)\\n            df_time[alg_name].append(time)\\n            dict_freq[alg_name] = [freq[i] if i in freq else 0 for i in range(4)]\\n\\n        df = pd.DataFrame(dict_freq, columns=algo.keys(), index=list(range(4)))\\n        err_freq.append(df)\\n\\n    df_de = pd.DataFrame(df_dist_err, columns=algo.keys(), index=dataset.keys())\\n    df_time = pd.DataFrame(df_time, columns=algo.keys(), index=dataset.keys())\\n\\n    return df_de, df_time, err_freq\";\n",
       "                var nbb_formatted_code = \"from GMLA_2 import *\\nfrom PTVA_algo_final import *\\n\\n\\ndef gen_data_complete(algo, dataset, iterations):\\n    df_dist_err = defaultdict(list)\\n    df_time = defaultdict(list)\\n    err_freq = []\\n\\n    for G_name, G in dataset.items():\\n        N = G.number_of_nodes()\\n        score_time = [alg(G, G_name, iterations) for alg in algo.values()]\\n        alg_data = [list(zip(*res)) for res in score_time]\\n\\n        dict_freq = defaultdict(list)\\n\\n        freq_hops = [Counter(err) for err, _ in alg_data]\\n        avg_dist_err = [stats.mean(err) for err, _ in alg_data]\\n        avg_time = [stats.mean(time) for _, time in alg_data]\\n\\n        for alg_name, de, time, freq in zip(\\n            algo.keys(), avg_dist_err, avg_time, freq_hops\\n        ):\\n            df_dist_err[alg_name].append(de)\\n            df_time[alg_name].append(time)\\n            dict_freq[alg_name] = [freq[i] if i in freq else 0 for i in range(4)]\\n\\n        df = pd.DataFrame(dict_freq, columns=algo.keys(), index=list(range(4)))\\n        err_freq.append(df)\\n\\n    df_de = pd.DataFrame(df_dist_err, columns=algo.keys(), index=dataset.keys())\\n    df_time = pd.DataFrame(df_time, columns=algo.keys(), index=dataset.keys())\\n\\n    return df_de, df_time, err_freq\";\n",
       "                var nbb_cells = Jupyter.notebook.get_cells();\n",
       "                for (var i = 0; i < nbb_cells.length; ++i) {\n",
       "                    if (nbb_cells[i].input_prompt_number == nbb_cell_id) {\n",
       "                        if (nbb_cells[i].get_text() == nbb_unformatted_code) {\n",
       "                             nbb_cells[i].set_text(nbb_formatted_code);\n",
       "                        }\n",
       "                        break;\n",
       "                    }\n",
       "                }\n",
       "            }, 500);\n",
       "            "
      ],
      "text/plain": [
       "<IPython.core.display.Javascript object>"
      ]
     },
     "metadata": {},
     "output_type": "display_data"
    }
   ],
   "source": [
    "from GMLA_2 import *\n",
    "from PTVA_algo_final import *\n",
    "\n",
    "\n",
    "\n",
    "def gen_data_complete(algo, dataset, iterations):\n",
    "    df_dist_err = defaultdict(list)\n",
    "    df_time = defaultdict(list)\n",
    "    err_freq = []\n",
    "\n",
    "    for G_name, G in dataset.items():\n",
    "        N = G.number_of_nodes()\n",
    "        score_time = [alg(G, G_name, iterations) for alg in algo.values()]\n",
    "        alg_data = [list(zip(*res)) for res in score_time]\n",
    "\n",
    "        dict_freq = defaultdict(list)\n",
    "\n",
    "        freq_hops = [Counter(err) for err, _ in alg_data]\n",
    "        avg_dist_err = [stats.mean(err) for err, _ in alg_data]\n",
    "        avg_time = [stats.mean(time) for _, time in alg_data]\n",
    "\n",
    "        for alg_name, de, time, freq in zip(\n",
    "            algo.keys(), avg_dist_err, avg_time, freq_hops\n",
    "        ):\n",
    "            df_dist_err[alg_name].append(de)\n",
    "            df_time[alg_name].append(time)\n",
    "            dict_freq[alg_name] = [freq[i] if i in freq else 0 for i in range(4)]\n",
    "\n",
    "        df = pd.DataFrame(dict_freq, columns=algo.keys(), index=list(range(4)))\n",
    "        err_freq.append(df)\n",
    "\n",
    "    df_de = pd.DataFrame(df_dist_err, columns=algo.keys(), index=dataset.keys())\n",
    "    df_time = pd.DataFrame(df_time, columns=algo.keys(), index=dataset.keys())\n",
    "\n",
    "    return df_de, df_time, err_freq\n"
   ]
  },
  {
   "cell_type": "code",
   "execution_count": 21,
   "id": "64457ec5",
   "metadata": {
    "scrolled": false
   },
   "outputs": [
    {
     "data": {
      "application/javascript": [
       "\n",
       "            setTimeout(function() {\n",
       "                var nbb_cell_id = 21;\n",
       "                var nbb_unformatted_code = \"comp_algo = {\\\"GMLA\\\": GMLA, \\\"PTVA\\\": PTVA_algo}\\npar_algo = {\\\"GFHF\\\": TSSI_GFHF, \\\"LGC\\\": TSSI_LGC}\\n\\ndataset = {\\n    \\\"Karate\\\": nx.karate_club_graph(),\\n    #     \\\"Football\\\": G_football,\\n    #     \\\"Facebook\\\": G_facebook,\\n#     \\\"Dolphin\\\": G_dolphin,\\n    #     \\\"Albert\\\": nx.barabasi_albert_graph(n=200, m=5),\\n    #     \\\"Erdos\\\": nx.erdos_renyi_graph(n=200, p=0.2),\\n}\";\n",
       "                var nbb_formatted_code = \"comp_algo = {\\\"GMLA\\\": GMLA, \\\"PTVA\\\": PTVA_algo}\\npar_algo = {\\\"GFHF\\\": TSSI_GFHF, \\\"LGC\\\": TSSI_LGC}\\n\\ndataset = {\\n    \\\"Karate\\\": nx.karate_club_graph(),\\n    #     \\\"Football\\\": G_football,\\n    #     \\\"Facebook\\\": G_facebook,\\n    #     \\\"Dolphin\\\": G_dolphin,\\n    #     \\\"Albert\\\": nx.barabasi_albert_graph(n=200, m=5),\\n    #     \\\"Erdos\\\": nx.erdos_renyi_graph(n=200, p=0.2),\\n}\";\n",
       "                var nbb_cells = Jupyter.notebook.get_cells();\n",
       "                for (var i = 0; i < nbb_cells.length; ++i) {\n",
       "                    if (nbb_cells[i].input_prompt_number == nbb_cell_id) {\n",
       "                        if (nbb_cells[i].get_text() == nbb_unformatted_code) {\n",
       "                             nbb_cells[i].set_text(nbb_formatted_code);\n",
       "                        }\n",
       "                        break;\n",
       "                    }\n",
       "                }\n",
       "            }, 500);\n",
       "            "
      ],
      "text/plain": [
       "<IPython.core.display.Javascript object>"
      ]
     },
     "metadata": {},
     "output_type": "display_data"
    }
   ],
   "source": [
    "comp_algo = {\"GMLA\": GMLA, \"PTVA\": PTVA_algo}\n",
    "par_algo = {\"GFHF\": TSSI_GFHF, \"LGC\": TSSI_LGC}\n",
    "\n",
    "dataset = {\n",
    "    \"Karate\": nx.karate_club_graph(),\n",
    "    #     \"Football\": G_football,\n",
    "    #     \"Facebook\": G_facebook,\n",
    "    #     \"Dolphin\": G_dolphin,\n",
    "    #     \"Albert\": nx.barabasi_albert_graph(n=200, m=5),\n",
    "    #     \"Erdos\": nx.erdos_renyi_graph(n=200, p=0.2),\n",
    "}"
   ]
  },
  {
   "cell_type": "code",
   "execution_count": 22,
   "id": "7c6a301f",
   "metadata": {},
   "outputs": [
    {
     "name": "stdout",
     "output_type": "stream",
     "text": [
      "GMLA 21 -> 2\n",
      "GMLA 32 -> 12\n",
      "GMLA 4 -> 3\n",
      "GMLA 15 -> 2\n",
      "GMLA 10 -> 3\n",
      "GMLA 3 -> 6\n",
      "GMLA 20 -> 2\n",
      "GMLA 5 -> 4\n",
      "GMLA 9 -> 2\n",
      "GMLA 10 -> 3\n",
      "PTVA 9 -> 2\n",
      "PTVA 10 -> 3\n",
      "PTVA 18 -> 2\n",
      "PTVA 30 -> 4\n",
      "PTVA 1 -> 9\n",
      "PTVA 32 -> 12\n",
      "PTVA 5 -> 4\n",
      "PTVA 18 -> 2\n",
      "PTVA 20 -> 2\n",
      "PTVA 30 -> 4\n"
     ]
    },
    {
     "data": {
      "application/javascript": [
       "\n",
       "            setTimeout(function() {\n",
       "                var nbb_cell_id = 22;\n",
       "                var nbb_unformatted_code = \"de_comp, time_comp, freq_comp = gen_data_complete(comp_algo, dataset, 10)\";\n",
       "                var nbb_formatted_code = \"de_comp, time_comp, freq_comp = gen_data_complete(comp_algo, dataset, 10)\";\n",
       "                var nbb_cells = Jupyter.notebook.get_cells();\n",
       "                for (var i = 0; i < nbb_cells.length; ++i) {\n",
       "                    if (nbb_cells[i].input_prompt_number == nbb_cell_id) {\n",
       "                        if (nbb_cells[i].get_text() == nbb_unformatted_code) {\n",
       "                             nbb_cells[i].set_text(nbb_formatted_code);\n",
       "                        }\n",
       "                        break;\n",
       "                    }\n",
       "                }\n",
       "            }, 500);\n",
       "            "
      ],
      "text/plain": [
       "<IPython.core.display.Javascript object>"
      ]
     },
     "metadata": {},
     "output_type": "display_data"
    }
   ],
   "source": [
    "de_comp, time_comp, freq_comp = gen_data_complete(comp_algo, dataset, 10)"
   ]
  },
  {
   "cell_type": "code",
   "execution_count": 23,
   "id": "449af321",
   "metadata": {
    "scrolled": false
   },
   "outputs": [
    {
     "name": "stdout",
     "output_type": "stream",
     "text": [
      "TSSI_GFHF 33 -> 17\n",
      "TSSI_GFHF 33 -> 17\n",
      "TSSI_GFHF 33 -> 17\n",
      "TSSI_GFHF 33 -> 17\n",
      "TSSI_GFHF 33 -> 17\n",
      "TSSI_GFHF 18 -> 2\n",
      "TSSI_GFHF 0 -> 16\n",
      "TSSI_GFHF 33 -> 17\n",
      "TSSI_GFHF 33 -> 17\n",
      "TSSI_GFHF 33 -> 17\n",
      "TSSI_LGC 33 -> 17\n",
      "TSSI_LGC 33 -> 17\n",
      "TSSI_LGC 33 -> 17\n",
      "TSSI_LGC 33 -> 17\n",
      "TSSI_LGC 33 -> 17\n",
      "TSSI_LGC 32 -> 12\n",
      "TSSI_LGC 0 -> 16\n",
      "TSSI_LGC 33 -> 17\n",
      "TSSI_LGC 33 -> 17\n",
      "TSSI_LGC 33 -> 17\n"
     ]
    },
    {
     "data": {
      "application/javascript": [
       "\n",
       "            setTimeout(function() {\n",
       "                var nbb_cell_id = 23;\n",
       "                var nbb_unformatted_code = \"de_par, time_par, err_freq_par = gen_data_partial(par_algo, dataset, 10)\";\n",
       "                var nbb_formatted_code = \"de_par, time_par, err_freq_par = gen_data_partial(par_algo, dataset, 10)\";\n",
       "                var nbb_cells = Jupyter.notebook.get_cells();\n",
       "                for (var i = 0; i < nbb_cells.length; ++i) {\n",
       "                    if (nbb_cells[i].input_prompt_number == nbb_cell_id) {\n",
       "                        if (nbb_cells[i].get_text() == nbb_unformatted_code) {\n",
       "                             nbb_cells[i].set_text(nbb_formatted_code);\n",
       "                        }\n",
       "                        break;\n",
       "                    }\n",
       "                }\n",
       "            }, 500);\n",
       "            "
      ],
      "text/plain": [
       "<IPython.core.display.Javascript object>"
      ]
     },
     "metadata": {},
     "output_type": "display_data"
    }
   ],
   "source": [
    "de_par, time_par, err_freq_par = gen_data_partial(par_algo, dataset, 10)"
   ]
  },
  {
   "cell_type": "code",
   "execution_count": 24,
   "id": "0273b3b6",
   "metadata": {
    "scrolled": true
   },
   "outputs": [
    {
     "data": {
      "image/png": "[encoded data removed]",
      "text/plain": [
       "<Figure size 432x288 with 1 Axes>"
      ]
     },
     "metadata": {
      "needs_background": "light"
     },
     "output_type": "display_data"
    },
    {
     "data": {
      "application/javascript": [
       "\n",
       "            setTimeout(function() {\n",
       "                var nbb_cell_id = 24;\n",
       "                var nbb_unformatted_code = \"de = pd.concat([de_par, de_comp], axis=1)\\nde.plot.bar(title=\\\"Distance Err\\\")\\n\\nplt.show()\";\n",
       "                var nbb_formatted_code = \"de = pd.concat([de_par, de_comp], axis=1)\\nde.plot.bar(title=\\\"Distance Err\\\")\\n\\nplt.show()\";\n",
       "                var nbb_cells = Jupyter.notebook.get_cells();\n",
       "                for (var i = 0; i < nbb_cells.length; ++i) {\n",
       "                    if (nbb_cells[i].input_prompt_number == nbb_cell_id) {\n",
       "                        if (nbb_cells[i].get_text() == nbb_unformatted_code) {\n",
       "                             nbb_cells[i].set_text(nbb_formatted_code);\n",
       "                        }\n",
       "                        break;\n",
       "                    }\n",
       "                }\n",
       "            }, 500);\n",
       "            "
      ],
      "text/plain": [
       "<IPython.core.display.Javascript object>"
      ]
     },
     "metadata": {},
     "output_type": "display_data"
    }
   ],
   "source": [
    "de = pd.concat([de_par, de_comp], axis=1)\n",
    "de.plot.bar(title=\"Distance Err\")\n",
    "\n",
    "plt.show()"
   ]
  },
  {
   "cell_type": "code",
   "execution_count": 25,
   "id": "3bf70acf",
   "metadata": {
    "scrolled": true
   },
   "outputs": [
    {
     "data": {
      "image/png": "[encoded data removed]",
      "text/plain": [
       "<Figure size 432x288 with 1 Axes>"
      ]
     },
     "metadata": {
      "needs_background": "light"
     },
     "output_type": "display_data"
    },
    {
     "data": {
      "application/javascript": [
       "\n",
       "            setTimeout(function() {\n",
       "                var nbb_cell_id = 25;\n",
       "                var nbb_unformatted_code = \"time = pd.concat([time_par, time_comp], axis=1)\\ntime.plot.bar(title=\\\"Time\\\")\\n\\nplt.show()\";\n",
       "                var nbb_formatted_code = \"time = pd.concat([time_par, time_comp], axis=1)\\ntime.plot.bar(title=\\\"Time\\\")\\n\\nplt.show()\";\n",
       "                var nbb_cells = Jupyter.notebook.get_cells();\n",
       "                for (var i = 0; i < nbb_cells.length; ++i) {\n",
       "                    if (nbb_cells[i].input_prompt_number == nbb_cell_id) {\n",
       "                        if (nbb_cells[i].get_text() == nbb_unformatted_code) {\n",
       "                             nbb_cells[i].set_text(nbb_formatted_code);\n",
       "                        }\n",
       "                        break;\n",
       "                    }\n",
       "                }\n",
       "            }, 500);\n",
       "            "
      ],
      "text/plain": [
       "<IPython.core.display.Javascript object>"
      ]
     },
     "metadata": {},
     "output_type": "display_data"
    }
   ],
   "source": [
    "time = pd.concat([time_par, time_comp], axis=1)\n",
    "time.plot.bar(title=\"Time\")\n",
    "\n",
    "plt.show()"
   ]
  },
  {
   "cell_type": "code",
   "execution_count": 26,
   "id": "2e697eec",
   "metadata": {
    "scrolled": true
   },
   "outputs": [
    {
     "data": {
      "image/png": "[encoded data removed]",
      "text/plain": [
       "<Figure size 432x288 with 1 Axes>"
      ]
     },
     "metadata": {
      "needs_background": "light"
     },
     "output_type": "display_data"
    },
    {
     "data": {
      "application/javascript": [
       "\n",
       "            setTimeout(function() {\n",
       "                var nbb_cell_id = 26;\n",
       "                var nbb_unformatted_code = \"freq = [pd.concat([p, c], axis=1) for p, c in zip(err_freq_par, freq_comp)]\\n\\nfor f, title in zip(freq, dataset.keys()):\\n    f.plot.bar(title=title)\\n\\nplt.show()\";\n",
       "                var nbb_formatted_code = \"freq = [pd.concat([p, c], axis=1) for p, c in zip(err_freq_par, freq_comp)]\\n\\nfor f, title in zip(freq, dataset.keys()):\\n    f.plot.bar(title=title)\\n\\nplt.show()\";\n",
       "                var nbb_cells = Jupyter.notebook.get_cells();\n",
       "                for (var i = 0; i < nbb_cells.length; ++i) {\n",
       "                    if (nbb_cells[i].input_prompt_number == nbb_cell_id) {\n",
       "                        if (nbb_cells[i].get_text() == nbb_unformatted_code) {\n",
       "                             nbb_cells[i].set_text(nbb_formatted_code);\n",
       "                        }\n",
       "                        break;\n",
       "                    }\n",
       "                }\n",
       "            }, 500);\n",
       "            "
      ],
      "text/plain": [
       "<IPython.core.display.Javascript object>"
      ]
     },
     "metadata": {},
     "output_type": "display_data"
    }
   ],
   "source": [
    "freq = [pd.concat([p, c], axis=1) for p, c in zip(err_freq_par, freq_comp)]\n",
    "\n",
    "for f, title in zip(freq, dataset.keys()):\n",
    "    f.plot.bar(title=title)\n",
    "\n",
    "plt.show()"
   ]
  }
 ],
 "metadata": {
  "kernelspec": {
   "display_name": "Python 3 (ipykernel)",
   "language": "python",
   "name": "python3"
  },
  "language_info": {
   "codemirror_mode": {
    "name": "ipython",
    "version": 3
   },
   "file_extension": ".py",
   "mimetype": "text/x-python",
   "name": "python",
   "nbconvert_exporter": "python",
   "pygments_lexer": "ipython3",
   "version": "3.9.7"
  }
 },
 "nbformat": 4,
 "nbformat_minor": 5
}
